{
 "cells": [
  {
   "cell_type": "code",
   "execution_count": 1,
   "metadata": {
    "collapsed": true,
    "pycharm": {
     "name": "#%%\n"
    }
   },
   "outputs": [],
   "source": [
    "import numpy as np\n",
    "import sympy\n",
    "from sympy import Symbol\n",
    "from sympy import Rational\n",
    "import matplotlib.pyplot as plt\n",
    "import csv"
   ]
  },
  {
   "cell_type": "markdown",
   "metadata": {
    "pycharm": {
     "name": "#%% md\n"
    }
   },
   "source": [
    "# 构造勒让德多项式，并存储在P中"
   ]
  },
  {
   "cell_type": "code",
   "execution_count": 2,
   "metadata": {
    "pycharm": {
     "name": "#%%\n"
    }
   },
   "outputs": [
    {
     "name": "stdout",
     "output_type": "stream",
     "text": [
      "0 1\n",
      "1 x\n",
      "2 3*x**2/2 - 1/2\n",
      "3 x*(5*x**2 - 3)/2\n",
      "4 35*x**4/8 - 15*x**2/4 + 3/8\n",
      "5 x*(63*x**4 - 70*x**2 + 15)/8\n",
      "6 231*x**6/16 - 315*x**4/16 + 105*x**2/16 - 5/16\n",
      "7 x*(429*x**6 - 693*x**4 + 315*x**2 - 35)/16\n",
      "8 6435*x**8/128 - 3003*x**6/32 + 3465*x**4/64 - 315*x**2/32 + 35/128\n",
      "9 x*(12155*x**8 - 25740*x**6 + 18018*x**4 - 4620*x**2 + 315)/128\n",
      "10 46189*x**10/256 - 109395*x**8/256 + 45045*x**6/128 - 15015*x**4/128 + 3465*x**2/256 - 63/256\n"
     ]
    }
   ],
   "source": [
    "x = Symbol('x')\n",
    "Lgd = [sympy.numer(1), x]\n",
    "\n",
    "for i in range(2,11):\n",
    "    Lgd.append(sympy.simplify(Rational(2 * i - 1, i) * x * Lgd[i - 1] - Rational(i - 1, i) * Lgd[i - 2]))\n",
    "for i in range(11):\n",
    "    print(i, Lgd[i])"
   ]
  },
  {
   "cell_type": "markdown",
   "metadata": {
    "pycharm": {
     "name": "#%% md\n"
    }
   },
   "source": [
    "# 构造目标函数"
   ]
  },
  {
   "cell_type": "code",
   "execution_count": 3,
   "metadata": {
    "pycharm": {
     "name": "#%%\n"
    }
   },
   "outputs": [],
   "source": [
    "f = sympy.exp(x)"
   ]
  },
  {
   "cell_type": "markdown",
   "metadata": {
    "pycharm": {
     "name": "#%% md\n"
    }
   },
   "source": [
    "# 计算勒让德多项式的模长"
   ]
  },
  {
   "cell_type": "code",
   "execution_count": 4,
   "metadata": {
    "pycharm": {
     "name": "#%%\n"
    }
   },
   "outputs": [
    {
     "name": "stdout",
     "output_type": "stream",
     "text": [
      "[2, 2/3, 2/5, 2/7, 2/9, 2/11, 2/13, 2/15, 2/17, 2/19, 2/21]\n"
     ]
    }
   ],
   "source": [
    "norm = []\n",
    "for i in range(11):\n",
    "    norm.append(sympy.integrate(Lgd[i] ** 2, (x, -1, 1)))\n",
    "print(norm)"
   ]
  },
  {
   "cell_type": "markdown",
   "metadata": {
    "pycharm": {
     "name": "#%% md\n"
    }
   },
   "source": [
    "# 计算f在以勒让德多项式为基的空间中的分量"
   ]
  },
  {
   "cell_type": "code",
   "execution_count": 5,
   "metadata": {
    "pycharm": {
     "name": "#%%\n"
    }
   },
   "outputs": [
    {
     "name": "stdout",
     "output_type": "stream",
     "text": [
      "[-exp(-1)/2 + E/2, 3*exp(-1), -35*exp(-1)/2 + 5*E/2, -35*E/2 + 259*exp(-1)/2, -1197*exp(-1) + 162*E, -3619*E/2 + 26741*exp(-1)/2, -351091*exp(-1)/2 + 47515*E/2, -358830*E + 2651415*exp(-1), -90607229*exp(-1)/2 + 12262355*E/2, -233893781*E/2 + 1728254269*exp(-1)/2, -18202633113*exp(-1) + 2463458508*E]\n"
     ]
    }
   ],
   "source": [
    "coef = []\n",
    "for i in range(11):\n",
    "    coef.append(sympy.integrate(f * Lgd[i], (x, -1, 1))/ norm[i])\n",
    "print(coef)"
   ]
  }
 ],
 "metadata": {
  "kernelspec": {
   "display_name": "Python 3 (ipykernel)",
   "language": "python",
   "name": "python3"
  },
  "language_info": {
   "codemirror_mode": {
    "name": "ipython",
    "version": 3
   },
   "file_extension": ".py",
   "mimetype": "text/x-python",
   "name": "python",
   "nbconvert_exporter": "python",
   "pygments_lexer": "ipython3",
   "version": "3.11.0"
  }
 },
 "nbformat": 4,
 "nbformat_minor": 1
}
