{
 "cells": [
  {
   "cell_type": "code",
   "execution_count": 25,
   "metadata": {
    "collapsed": true,
    "pycharm": {
     "name": "#%%\n"
    }
   },
   "outputs": [],
   "source": [
    "import numpy as np\n",
    "import sympy\n",
    "from sympy import Symbol\n",
    "from sympy import Rational\n",
    "import matplotlib.pyplot as plt\n",
    "import csv\n",
    "import scipy"
   ]
  },
  {
   "cell_type": "markdown",
   "metadata": {
    "pycharm": {
     "name": "#%% md\n"
    }
   },
   "source": [
    "# 构造勒让德多项式，并存储在P中"
   ]
  },
  {
   "cell_type": "code",
   "execution_count": 26,
   "metadata": {
    "pycharm": {
     "name": "#%%\n"
    }
   },
   "outputs": [
    {
     "name": "stdout",
     "output_type": "stream",
     "text": [
      "0 1\n",
      "1 x\n",
      "2 3*x**2/2 - 1/2\n",
      "3 x*(5*x**2 - 3)/2\n",
      "4 35*x**4/8 - 15*x**2/4 + 3/8\n",
      "5 x*(63*x**4 - 70*x**2 + 15)/8\n",
      "6 231*x**6/16 - 315*x**4/16 + 105*x**2/16 - 5/16\n",
      "7 x*(429*x**6 - 693*x**4 + 315*x**2 - 35)/16\n",
      "8 6435*x**8/128 - 3003*x**6/32 + 3465*x**4/64 - 315*x**2/32 + 35/128\n",
      "9 x*(12155*x**8 - 25740*x**6 + 18018*x**4 - 4620*x**2 + 315)/128\n",
      "10 46189*x**10/256 - 109395*x**8/256 + 45045*x**6/128 - 15015*x**4/128 + 3465*x**2/256 - 63/256\n"
     ]
    }
   ],
   "source": [
    "x = Symbol('x')\n",
    "Lgd = [sympy.numer(1), x]\n",
    "\n",
    "for i in range(2,11):\n",
    "    Lgd.append(sympy.simplify(Rational(2 * i - 1, i) * x * Lgd[i - 1] - Rational(i - 1, i) * Lgd[i - 2]))\n",
    "for i in range(11):\n",
    "    print(i, Lgd[i])"
   ]
  },
  {
   "cell_type": "markdown",
   "metadata": {
    "pycharm": {
     "name": "#%% md\n"
    }
   },
   "source": [
    "# 构造目标函数"
   ]
  },
  {
   "cell_type": "code",
   "execution_count": 27,
   "metadata": {
    "pycharm": {
     "name": "#%%\n"
    }
   },
   "outputs": [],
   "source": [
    "f = sympy.exp(x)"
   ]
  },
  {
   "cell_type": "markdown",
   "metadata": {
    "pycharm": {
     "name": "#%% md\n"
    }
   },
   "source": [
    "# 计算勒让德多项式的模长"
   ]
  },
  {
   "cell_type": "code",
   "execution_count": 28,
   "metadata": {
    "pycharm": {
     "name": "#%%\n"
    }
   },
   "outputs": [
    {
     "name": "stdout",
     "output_type": "stream",
     "text": [
      "[2, 2/3, 2/5, 2/7, 2/9, 2/11, 2/13, 2/15, 2/17, 2/19, 2/21]\n"
     ]
    }
   ],
   "source": [
    "norm = []\n",
    "for i in range(11):\n",
    "    norm.append(sympy.integrate(Lgd[i] ** 2, (x, -1, 1)))\n",
    "print(norm)"
   ]
  },
  {
   "cell_type": "markdown",
   "metadata": {
    "pycharm": {
     "name": "#%% md\n"
    }
   },
   "source": [
    "# 计算f在以勒让德多项式为基的空间中的分量"
   ]
  },
  {
   "cell_type": "code",
   "execution_count": 29,
   "metadata": {
    "pycharm": {
     "name": "#%%\n"
    }
   },
   "outputs": [
    {
     "name": "stdout",
     "output_type": "stream",
     "text": [
      "[-exp(-1)/2 + E/2, 3*exp(-1), -35*exp(-1)/2 + 5*E/2, -35*E/2 + 259*exp(-1)/2, -1197*exp(-1) + 162*E, -3619*E/2 + 26741*exp(-1)/2, -351091*exp(-1)/2 + 47515*E/2, -358830*E + 2651415*exp(-1), -90607229*exp(-1)/2 + 12262355*E/2, -233893781*E/2 + 1728254269*exp(-1)/2, -18202633113*exp(-1) + 2463458508*E]\n"
     ]
    }
   ],
   "source": [
    "coef = []\n",
    "for i in range(11):\n",
    "    coef.append(sympy.integrate(f * Lgd[i], (x, -1, 1))/ norm[i])\n",
    "print(coef)"
   ]
  },
  {
   "cell_type": "markdown",
   "source": [
    "# 由上面计算得出的系数构造最佳平方逼近多项式，以及其误差"
   ],
   "metadata": {
    "collapsed": false,
    "pycharm": {
     "name": "#%% md\n"
    }
   }
  },
  {
   "cell_type": "code",
   "execution_count": 30,
   "outputs": [
    {
     "name": "stdout",
     "output_type": "stream",
     "text": [
      "0 sinh(1) exp(x) - sinh(1)\n",
      "1 (6*x - 1 + exp(2))*exp(-1)/2 (-6*x + 2*exp(x + 1) - exp(2) + 1)*exp(-1)/2\n",
      "2 (12*x + 5*(-7 + exp(2))*(3*x**2 - 1) - 2 + 2*exp(2))*exp(-1)/4 (-12*x + 5*(7 - exp(2))*(3*x**2 - 1) + 4*exp(x + 1) - 2*exp(2) + 2)*exp(-1)/4\n",
      "3 (-7*x*(-37 + 5*exp(2))*(5*x**2 - 3) + 12*x + 5*(-7 + exp(2))*(3*x**2 - 1) - 2 + 2*exp(2))*exp(-1)/4 (-7*x*(37 - 5*exp(2))*(5*x**2 - 3) - 12*x + 5*(7 - exp(2))*(3*x**2 - 1) + 4*exp(x + 1) - 2*exp(2) + 2)*exp(-1)/4\n",
      "4 5*(-8379*x**4 + 1134*x**4*exp(2) - 70*x**3*exp(2) + 518*x**3 - 966*x**2*exp(2) + 7140*x**2 - 306*x + 42*x*exp(2) - 705 + 96*exp(2))*exp(-1)/8 (-5670*x**4*exp(2) + 41895*x**4 - 2590*x**3 + 350*x**3*exp(2) - 35700*x**2 + 4830*x**2*exp(2) - 210*x*exp(2) + 1530*x + 8*exp(x + 1) - 480*exp(2) + 3525)*exp(-1)/8\n",
      "5 3*(-75999*x**5*exp(2) + 561561*x**5 - 27930*x**4 + 3780*x**4*exp(2) - 622230*x**3 + 84210*x**3*exp(2) - 3220*x**2*exp(2) + 23800*x**2 - 17955*x*exp(2) + 132685*x - 2350 + 320*exp(2))*exp(-1)/16 (-1684683*x**5 + 227997*x**5*exp(2) - 11340*x**4*exp(2) + 83790*x**4 - 252630*x**3*exp(2) + 1866690*x**3 - 71400*x**2 + 9660*x**2*exp(2) - 398055*x + 53865*x*exp(2) + 16*exp(x + 1) - 960*exp(2) + 7050)*exp(-1)/16\n",
      "6 7*(-11586003*x**6 + 1567995*x**6*exp(2) - 65142*x**5*exp(2) + 481338*x**5 - 2134935*x**4*exp(2) + 15775155*x**4 - 533340*x**3 + 72180*x**3*exp(2) - 5245965*x**2 + 709965*x**2*exp(2) - 15390*x*exp(2) + 113730*x - 33665*exp(2) + 248765)*exp(-1)/32 (-10975965*x**6*exp(2) + 81102021*x**6 - 3369366*x**5 + 455994*x**5*exp(2) - 110426085*x**4 + 14944545*x**4*exp(2) - 505260*x**3*exp(2) + 3733380*x**3 - 4969755*x**2*exp(2) + 36721755*x**2 - 796110*x + 107730*x*exp(2) + 32*exp(x + 1) - 1741355 + 235655*exp(2))*exp(-1)/32\n",
      "7 (-307876140*x**7*exp(2) + 2274914070*x**7 - 81102021*x**6 + 10975965*x**6*exp(2) - 3671491824*x**5 + 496882386*x**5*exp(2) - 14944545*x**4*exp(2) + 110426085*x**4 - 225557640*x**3*exp(2) + 1666658070*x**3 - 36721755*x**2 + 4969755*x**2*exp(2) - 184802940*x + 25010370*x*exp(2) - 235655*exp(2) + 1741355)*exp(-1)/32 (-2274914070*x**7 + 307876140*x**7*exp(2) - 10975965*x**6*exp(2) + 81102021*x**6 - 496882386*x**5*exp(2) + 3671491824*x**5 - 110426085*x**4 + 14944545*x**4*exp(2) - 1666658070*x**3 + 225557640*x**3*exp(2) - 4969755*x**2*exp(2) + 36721755*x**2 - 25010370*x*exp(2) + 184802940*x + 32*exp(x + 1) - 1741355 + 235655*exp(2))*exp(-1)/32\n",
      "8 9*(-64784168735*x**8 + 8767583825*x**8*exp(2) - 273667680*x**7*exp(2) + 2022145840*x**7 - 16356400060*x**6*exp(2) + 120858357620*x**6 - 3263548288*x**5 + 441673232*x**5*exp(2) - 69669409810*x**4 + 9428729310*x**4*exp(2) - 200495680*x**3*exp(2) + 1481473840*x**3 - 1712312140*x**2*exp(2) + 12652370500*x**2 - 164269280*x + 22231440*x*exp(2) - 350813575 + 47477465*exp(2))*exp(-1)/256 (-78908254425*x**8*exp(2) + 583057518615*x**8 - 18199312560*x**7 + 2463009120*x**7*exp(2) - 1087725218580*x**6 + 147207600540*x**6*exp(2) - 3975059088*x**5*exp(2) + 29371934592*x**5 - 84858563790*x**4*exp(2) + 627024688290*x**4 - 13333264560*x**3 + 1804461120*x**3*exp(2) - 113871334500*x**2 + 15410809260*x**2*exp(2) - 200082960*x*exp(2) + 1478423520*x + 256*exp(x + 1) - 427297185*exp(2) + 3157322175)*exp(-1)/256\n",
      "9 5*(-568595781611*x**9*exp(2) + 4201386127939*x**9 - 116611503723*x**8 + 15781650885*x**8*exp(2) - 8893413114300*x**7 + 1203592582764*x**7*exp(2) - 29441520108*x**6*exp(2) + 217545043716*x**6 - 842064617394*x**5*exp(2) + 6222062696850*x**5 - 125404937658*x**4 + 16971712758*x**4*exp(2) - 1594240291644*x**3 + 215756961420*x**3*exp(2) - 3082161852*x**2*exp(2) + 22774266900*x**2 - 14695291611*x*exp(2) + 108584334243*x - 631464435 + 85459437*exp(2))*exp(-1)/256 (-21006930639695*x**9 + 2842978908055*x**9*exp(2) - 78908254425*x**8*exp(2) + 583057518615*x**8 - 6017962913820*x**7*exp(2) + 44467065571500*x**7 - 1087725218580*x**6 + 147207600540*x**6*exp(2) - 31110313484250*x**5 + 4210323086970*x**5*exp(2) - 84858563790*x**4*exp(2) + 627024688290*x**4 - 1078784807100*x**3*exp(2) + 7971201458220*x**3 - 113871334500*x**2 + 15410809260*x**2*exp(2) - 542921671215*x + 73476458055*x*exp(2) + 256*exp(x + 1) - 427297185*exp(2) + 3157322175)*exp(-1)/256\n",
      "10 11*(-76432856441487*x**10 + 10344062275092*x**10*exp(2) - 258452628005*x**9*exp(2) + 1909720967245*x**9 - 24491921384385*x**8*exp(2) + 180972181079820*x**8 - 4042460506500*x**7 + 547087537620*x**7*exp(2) - 148980681084690*x**6 + 20162342671380*x**6*exp(2) - 382756644270*x**5*exp(2) + 2828210316750*x**5 - 6717527311950*x**4*exp(2) + 49636186154100*x**4 - 724654678020*x**3 + 98071346100*x**3*exp(2) - 5723477491095*x**2 + 774588447360*x**2*exp(2) - 6679678005*x*exp(2) + 49356515565*x - 14070053529*exp(2) + 103964414904)*exp(-1)/256 (-113784685026012*x**10*exp(2) + 840761420856357*x**10 - 21006930639695*x**9 + 2842978908055*x**9*exp(2) - 1990693991878020*x**8 + 269411135228235*x**8*exp(2) - 6017962913820*x**7*exp(2) + 44467065571500*x**7 - 221785769385180*x**6*exp(2) + 1638787491931590*x**6 - 31110313484250*x**5 + 4210323086970*x**5*exp(2) - 545998047695100*x**4 + 73892800431450*x**4*exp(2) - 1078784807100*x**3*exp(2) + 7971201458220*x**3 - 8520472920960*x**2*exp(2) + 62958252402045*x**2 - 542921671215*x + 73476458055*x*exp(2) + 256*exp(x + 1) - 1143608563944 + 154770588819*exp(2))*exp(-1)/256\n"
     ]
    }
   ],
   "source": [
    "P = []\n",
    "epsilon = []\n",
    "for i in range(11):\n",
    "    tmp_p = 0\n",
    "    for j in range(i + 1):\n",
    "        tmp_p += coef[j] * Lgd[j]\n",
    "    P.append(sympy.simplify(tmp_p))\n",
    "    epsilon.append(sympy.simplify(f - P[i]))\n",
    "for i in range(11):\n",
    "    print(i, P[i], epsilon[i])"
   ],
   "metadata": {
    "collapsed": false,
    "pycharm": {
     "name": "#%%\n"
    }
   }
  },
  {
   "cell_type": "markdown",
   "source": [
    "# 画出图像"
   ],
   "metadata": {
    "collapsed": false,
    "pycharm": {
     "name": "#%% md\n"
    }
   }
  },
  {
   "cell_type": "code",
   "execution_count": 31,
   "outputs": [
    {
     "data": {
      "text/plain": "<Figure size 640x480 with 1 Axes>",
      "image/png": "[encoded data removed]"
     },
     "metadata": {},
     "output_type": "display_data"
    }
   ],
   "source": [
    "x_range = np.arange(-1, 1, 0.01)\n",
    "error = []\n",
    "for i in range(11):\n",
    "    tmp_error = []\n",
    "    for x_ in x_range:\n",
    "        tmp_error.append(epsilon[i].evalf(subs = {x:x_}))\n",
    "    error.append(tmp_error)\n",
    "    tmp_error = np.array(tmp_error)\n",
    "    plt.plot(x_range, tmp_error, label = \"n=\" + str(i))\n",
    "plt.xlim(-1, 1.5)\n",
    "plt.legend(loc='best')\n",
    "plt.savefig(\"误差.svg\", dpi=300,format='svg')\n",
    "plt.show()"
   ],
   "metadata": {
    "collapsed": false,
    "pycharm": {
     "name": "#%%\n"
    }
   }
  },
  {
   "cell_type": "markdown",
   "source": [
    "# 上面的计算得到的都是解析解，现在求数值解"
   ],
   "metadata": {
    "collapsed": false,
    "pycharm": {
     "name": "#%% md\n"
    }
   }
  },
  {
   "cell_type": "code",
   "execution_count": 32,
   "outputs": [
    {
     "name": "stdout",
     "output_type": "stream",
     "text": [
      "0 1.17520119364380 exp(x) - 1.1752011936438\n",
      "1 1.10363832351433*x + 1.1752011936438 -1.10363832351433*x + 0.367879441171442*exp(x + 1) - 1.1752011936438\n",
      "2 0.536721525971059*x**2 + 1.10363832351433*x + 0.996294018320115 -0.536721525971059*x**2 - 1.10363832351433*x + 0.367879441171442*exp(x + 1) - 0.996294018320115\n",
      "3 0.176139084171224*x**3 + 0.536721525971059*x**2 + 0.997954873011593*x + 0.996294018320115 -0.176139084171224*x**3 - 0.536721525971059*x**2 - 0.997954873011593*x + 0.367879441171442*exp(x + 1) - 0.996294018320115\n",
      "4 0.0435974356513095*x**4 + 0.176139084171224*x**3 + 0.499352295412685*x**2 + 0.997954873011593*x + 1.00003094137593 -0.0435974356513931*x**4 - 0.176139084171219*x**3 - 0.499352295412685*x**2 - 0.997954873011598*x + 0.367879441171442*exp(x + 1) - 1.00003094137594\n",
      "5 0.00865924075198658*x**5 + 0.0435974356513931*x**4 + 0.166517705557217*x**3 + 0.499352295412769*x**2 + 1.00001659699943*x + 1.00003094137595 -0.0086592407493099*x**5 - 0.0435974356513931*x**4 - 0.166517705557217*x**3 - 0.499352295412685*x**2 - 1.00001659699943*x + 0.367879441171442*exp(x + 1) - 1.00003094137594\n",
      "6 0.00143587210097838*x**6 + 0.00865924074997907*x**5 + 0.0416394282894828*x**4 + 0.16651770556257*x**3 + 0.500004964502652*x**2 + 1.00001659699993*x + 0.999999861895628 -0.00143587205815158*x**6 - 0.0086592407493099*x**5 - 0.041639428353723*x**4 - 0.166517705557217*x**3 - 0.500004964545478*x**2 - 1.00001659699943*x + 0.367879441171442*exp(x + 1) - 0.999999861893286\n",
      "7 0.000204324281376349*x**7 + 0.00143587205815158*x**6 + 0.00832917602520447*x**5 + 0.041639428353723*x**4 + 0.166667735130565*x**3 + 0.500004964545478*x**2 + 0.999999927147951*x + 0.999999861893286 -0.000204324281376349*x**7 - 0.00143587205815158*x**6 - 0.00832917602520447*x**5 - 0.041639428353723*x**4 - 0.166667735130565*x**3 - 0.500004964545478*x**2 - 0.999999927147951*x + 0.367879441171442*exp(x + 1) - 0.999999861893286\n",
      "8 2.54576224803951e-5*x**8 + 0.000204323938761921*x**7 + 0.00138832848177969*x**6 + 0.00832917533997561*x**5 + 0.0416668262017109*x**4 + 0.166667733417493*x**3 + 0.499999965629662*x**2 + 0.999999927019471*x + 1.00000000063875 -2.54356951569839e-5*x**8 - 0.000204324281376349*x**7 - 0.00138826269980945*x**6 - 0.00832917602520447*x**5 - 0.0416668262017109*x**4 - 0.166667735130565*x**3 - 0.49999998481607*x**2 - 0.999999927147951*x + 0.367879441171442*exp(x + 1) - 1.00000000046744\n",
      "9 3.50837174579089e-6*x**9 + 2.54356951569839e-5*x**8 + 0.00019646881776429*x**7 + 0.00138821884516263*x**6 + 0.00832887452450756*x**5 + 0.0416668481290343*x**4 + 0.166666953969669*x**3 + 0.49999998481607*x**2 + 0.999999969632141*x + 1.00000000046744 -2.54356951569839e-5*x**8 - 0.000202082212557555*x**7 - 0.00138826269980945*x**6 - 0.00833027787320588*x**5 - 0.0416668262017109*x**4 - 0.166667304806843*x**3 - 0.49999998481607*x**2 - 0.999999969632141*x + 0.367879441171442*exp(x + 1) - 1.00000000046744\n",
      "10 3.85920892036997e-6*x**9 + 0.000200678863859239*x**7 + 0.00148193622542207*x**6 + 0.00833589126799914*x**5 + 0.0416177089972698*x**4 + 0.166667655644018*x**3 + 0.499999107723134*x**2 + 1.00000002445045*x + 0.99999990385017 -0.000202082212557555*x**7 - 0.00143702906707595*x**6 - 0.00833027787320588*x**5 - 0.0416738429452025*x**4 - 0.166667304806843*x**3 - 0.500007527815324*x**2 - 0.999999969632141*x + 0.367879441171442*exp(x + 1) - 0.999999969632141\n"
     ]
    }
   ],
   "source": [
    "P_float = []\n",
    "epsilon_float = []\n",
    "for i in range(11):\n",
    "    P_float.append(sympy.simplify(P[i].evalf()))\n",
    "    epsilon_float.append(sympy.simplify(epsilon[i].evalf()))\n",
    "for i in range(11):\n",
    "    print(i, P_float[i], epsilon_float[i])"
   ],
   "metadata": {
    "collapsed": false,
    "pycharm": {
     "name": "#%%\n"
    }
   }
  },
  {
   "cell_type": "markdown",
   "source": [
    "# 将数值解以latex公式形式给出"
   ],
   "metadata": {
    "collapsed": false,
    "pycharm": {
     "name": "#%% md\n"
    }
   }
  },
  {
   "cell_type": "code",
   "execution_count": 33,
   "outputs": [],
   "source": [
    "latex_formula = []\n",
    "for i in range(11):\n",
    "    latex_formula.append([sympy.latex(P_float[i]), sympy.latex(epsilon_float[i]), sympy.latex(P[i]), sympy.latex(epsilon[i])])\n",
    "with open('latex_formula.csv', 'w') as f:\n",
    "    write = csv.writer(f)\n",
    "    write.writerows(latex_formula)"
   ],
   "metadata": {
    "collapsed": false,
    "pycharm": {
     "name": "#%%\n"
    }
   }
  },
  {
   "cell_type": "markdown",
   "source": [
    "# 计算极值"
   ],
   "metadata": {
    "collapsed": false,
    "pycharm": {
     "name": "#%% md\n"
    }
   }
  },
  {
   "cell_type": "code",
   "execution_count": 34,
   "outputs": [
    {
     "name": "stdout",
     "output_type": "stream",
     "text": [
      "[1.51603327870547 0.423431338426280 0.0762977461457297 0.0100167849111821\n",
      " 0.00102592199263293 9.23120414227268e-5 7.14229769069819e-6\n",
      " 4.78243618165514e-7 2.82283563996151e-8 1.48978475696039e-9\n",
      " 7.11018883495221e-11]\n"
     ]
    }
   ],
   "source": [
    "abs_error = np.abs(error)\n",
    "max_error = np.max(abs_error, axis=1)\n",
    "print(max_error)"
   ],
   "metadata": {
    "collapsed": false,
    "pycharm": {
     "name": "#%%\n"
    }
   }
  },
  {
   "cell_type": "markdown",
   "source": [
    "# 画出误差图像"
   ],
   "metadata": {
    "collapsed": false,
    "pycharm": {
     "name": "#%% md\n"
    }
   }
  },
  {
   "cell_type": "code",
   "execution_count": 35,
   "outputs": [
    {
     "data": {
      "text/plain": "<Figure size 640x480 with 1 Axes>",
      "image/png": "[encoded data removed]"
     },
     "metadata": {},
     "output_type": "display_data"
    }
   ],
   "source": [
    "n = np.arange(0, 11)\n",
    "plt.plot(n, max_error)\n",
    "plt.show()"
   ],
   "metadata": {
    "collapsed": false,
    "pycharm": {
     "name": "#%%\n"
    }
   }
  },
  {
   "cell_type": "code",
   "execution_count": 35,
   "outputs": [],
   "source": [],
   "metadata": {
    "collapsed": false,
    "pycharm": {
     "name": "#%%\n"
    }
   }
  }
 ],
 "metadata": {
  "kernelspec": {
   "display_name": "Python 3 (ipykernel)",
   "language": "python",
   "name": "python3"
  },
  "language_info": {
   "codemirror_mode": {
    "name": "ipython",
    "version": 3
   },
   "file_extension": ".py",
   "mimetype": "text/x-python",
   "name": "python",
   "nbconvert_exporter": "python",
   "pygments_lexer": "ipython3",
   "version": "3.11.0"
  }
 },
 "nbformat": 4,
 "nbformat_minor": 1
}